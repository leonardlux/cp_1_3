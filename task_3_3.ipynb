{
 "cells": [
  {
   "cell_type": "markdown",
   "metadata": {},
   "source": [
    "# Task 3.3\n",
    "\n",
    "## ToDo\n",
    "\n",
    "### Study numerically the stability threshold\n",
    "noch keinen bock"
   ]
  }
 ],
 "metadata": {
  "language_info": {
   "name": "python"
  }
 },
 "nbformat": 4,
 "nbformat_minor": 2
}
